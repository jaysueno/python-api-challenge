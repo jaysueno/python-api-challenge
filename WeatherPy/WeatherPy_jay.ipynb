{
 "cells": [
  {
   "cell_type": "markdown",
   "metadata": {},
   "source": [
    "# WeatherPy\n",
    "----\n",
    "\n",
    "#### Note\n",
    "* Instructions have been included for each segment. You do not have to follow them exactly, but they are included to help you think through the steps.\n",
    "\n",
    "#### jay notes - assignments to look at\n",
    "* api day 2, #5 airport_ratings"
   ]
  },
  {
   "cell_type": "code",
   "execution_count": 3,
   "metadata": {
    "scrolled": true
   },
   "outputs": [],
   "source": [
    "# Dependencies and Setup\n",
    "import matplotlib.pyplot as plt\n",
    "import pandas as pd\n",
    "import numpy as np\n",
    "import requests\n",
    "import time\n",
    "from scipy.stats import linregress\n",
    "\n",
    "# Import API key\n",
    "from api_keys import weather_api_key\n",
    "\n",
    "# Incorporated citipy to determine city based on latitude and longitude\n",
    "from citipy import citipy\n",
    "\n",
    "# Output File (CSV)\n",
    "output_data_file = \"output_data/cities.csv\"\n",
    "\n",
    "# Range of latitudes and longitudes\n",
    "lat_range = (-90, 90)\n",
    "lng_range = (-180, 180)"
   ]
  },
  {
   "cell_type": "markdown",
   "metadata": {},
   "source": [
    "## Generate Cities List"
   ]
  },
  {
   "cell_type": "code",
   "execution_count": 5,
   "metadata": {},
   "outputs": [
    {
     "data": {
      "text/plain": [
       "646"
      ]
     },
     "execution_count": 5,
     "metadata": {},
     "output_type": "execute_result"
    }
   ],
   "source": [
    "# List for holding lat_lngs and cities\n",
    "lat_lngs = []\n",
    "cities = []\n",
    "\n",
    "# Create a set of random lat and lng combinations\n",
    "lats = np.random.uniform(lat_range[0], lat_range[1], size=1500)\n",
    "lngs = np.random.uniform(lng_range[0], lng_range[1], size=1500)\n",
    "lat_lngs = zip(lats, lngs)\n",
    "\n",
    "# Identify nearest city for each lat, lng combination\n",
    "for lat_lng in lat_lngs:\n",
    "    city = citipy.nearest_city(lat_lng[0], lat_lng[1]).city_name\n",
    "    \n",
    "    # If the city is unique, then add it to a our cities list\n",
    "    if city not in cities:\n",
    "        cities.append(city)\n",
    "\n",
    "# Print the city count to confirm sufficient count\n",
    "len(cities)"
   ]
  },
  {
   "cell_type": "code",
   "execution_count": 6,
   "metadata": {},
   "outputs": [
    {
     "data": {
      "text/plain": [
       "zip"
      ]
     },
     "execution_count": 6,
     "metadata": {},
     "output_type": "execute_result"
    }
   ],
   "source": [
    "type(lat_lngs)"
   ]
  },
  {
   "cell_type": "code",
   "execution_count": 7,
   "metadata": {},
   "outputs": [],
   "source": [
    "# cities"
   ]
  },
  {
   "cell_type": "markdown",
   "metadata": {},
   "source": [
    "### Perform API Calls\n",
    "* Perform a weather check on each city using a series of successive API calls.\n",
    "* Include a print log of each city as it'sbeing processed (with the city number and city name).\n"
   ]
  },
  {
   "cell_type": "code",
   "execution_count": 44,
   "metadata": {},
   "outputs": [],
   "source": [
    "# city_name = \"rikitea\"\n",
    "# base_url = f\"https://api.openweathermap.org/data/2.5/weather?q={city_name}&appid={weather_api_key}&units=imperial\"\n",
    "# # city_name = \"boise\"\n",
    "# # query_url = base_url.format(city_name, weather_api_key)\n",
    "# articles = requests.get(base_url).json()\n",
    "# articles"
   ]
  },
  {
   "cell_type": "code",
   "execution_count": null,
   "metadata": {},
   "outputs": [],
   "source": [
    "# create a data frame with the cities list. Add columns for:\n",
    "# City, Lat, Lng, Max, Temp, Humidity, Cloudiness, Wind, Speed, Country, Date\n",
    "\n",
    "df = pd.DataFrame(cities)\n",
    "df[\"Latitude\"] = \"\"\n",
    "df[\"Longitude\"] = \"\"\n",
    "df[\"Max Temp (F)\"] = \"\"\n",
    "df[\"Humidity\"] = \"\"\n",
    "df[\"Cloud Coverage\"] = \"\"\n",
    "df[\"Wind Speed\"] = \"\"\n",
    "df[\"Country\"] = \"\"\n",
    "df[\"Datetime\"] = \"\"\n",
    "\n",
    "df.rename(columns={0 : 'City'}, inplace=True)\n",
    "df"
   ]
  },
  {
   "cell_type": "code",
   "execution_count": null,
   "metadata": {},
   "outputs": [
    {
     "name": "stdout",
     "output_type": "stream",
     "text": [
      "\n",
      "-----------------------------\n",
      "Beginning Data Retrieval\n",
      "-----------------------------\n",
      "Processing record 1 out of 646 | rikitea | 71.22\n",
      "Processing record 2 out of 646 | tuktoyaktuk | 57.2\n",
      "Processing record 3 out of 646 | busselton | 54.27\n",
      "Processing record 4 out of 646 | mataura | 42.94\n",
      "Processing record 5 out of 646 | namibe | 62.65\n",
      "Processing record 6 out of 646 | albany | 78.35\n",
      "Processing record 7 out of 646 | anloga | 75.2\n",
      "City not found.\n",
      "Processing record 8 out of 646 | qaanaaq | 45.91\n",
      "Processing record 9 out of 646 | ushuaia | 35.6\n",
      "Processing record 10 out of 646 | bluff | 47.05\n",
      "Processing record 11 out of 646 | barrow | 39.2\n",
      "City not found.\n",
      "City not found.\n",
      "Processing record 12 out of 646 | kaabong | 62.46\n",
      "Processing record 13 out of 646 | port alfred | 58.23\n",
      "Processing record 14 out of 646 | parrita | 70.09\n",
      "Processing record 15 out of 646 | kudahuvadhoo | 83.98\n",
      "City not found.\n",
      "Processing record 16 out of 646 | bathsheba | 82.4\n",
      "Processing record 17 out of 646 | irtyshskiy | 62.24\n",
      "Processing record 18 out of 646 | labuhan | 76.24\n",
      "Processing record 19 out of 646 | sistranda | 49.48\n",
      "Processing record 20 out of 646 | nanortalik | 46.6\n",
      "Processing record 21 out of 646 | bandarbeyla | 82.06\n",
      "Processing record 22 out of 646 | isangel | 78.8\n",
      "Processing record 23 out of 646 | atuona | 79.83\n",
      "Processing record 24 out of 646 | castro | 58.78\n",
      "Processing record 25 out of 646 | lebu | 48.36\n",
      "Processing record 26 out of 646 | hermanus | 55.99\n",
      "Processing record 27 out of 646 | huarmey | 62.62\n",
      "Processing record 28 out of 646 | bajil | 91.38\n",
      "Processing record 29 out of 646 | zhigansk | 69.91\n",
      "City not found.\n",
      "Processing record 30 out of 646 | jalu | 74.75\n",
      "Processing record 31 out of 646 | hilo | 79.63\n",
      "Processing record 32 out of 646 | kruisfontein | 58.23\n",
      "City not found.\n",
      "Processing record 33 out of 646 | zaysan | 64.94\n",
      "Processing record 34 out of 646 | ponta delgada | 68\n",
      "Processing record 35 out of 646 | nago | 86.97\n",
      "Processing record 36 out of 646 | acapulco | 86\n",
      "Processing record 37 out of 646 | trapani | 73.2\n",
      "City not found.\n",
      "Processing record 38 out of 646 | mahibadhoo | 83.23\n",
      "Processing record 39 out of 646 | vieques | 84.2\n",
      "Processing record 40 out of 646 | new norfolk | 41.43\n",
      "Processing record 41 out of 646 | antigonish | 71.01\n",
      "Processing record 42 out of 646 | luau | 65.1\n",
      "Processing record 43 out of 646 | punta arenas | 33.39\n",
      "Processing record 44 out of 646 | seoul | 66.76\n",
      "Processing record 45 out of 646 | cape town | 57.18\n",
      "Processing record 46 out of 646 | talara | 62.69\n",
      "Processing record 47 out of 646 | jamestown | 70.74\n",
      "Processing record 48 out of 646 | cedar city | 96.8\n",
      "Processing record 49 out of 646 | pitimbu | 73.4\n",
      "Processing record 50 out of 646 | saint-philippe | 58.93\n",
      "Processing record 51 out of 646 | pokhara | 72.55\n",
      "City not found.\n",
      "Processing record 52 out of 646 | coquimbo | 55.4\n",
      "Processing record 53 out of 646 | pisco | 60.89\n",
      "Processing record 54 out of 646 | tuatapere | 45.36\n",
      "Processing record 55 out of 646 | denpasar | 77\n",
      "Processing record 56 out of 646 | belmonte | 69.8\n",
      "Processing record 57 out of 646 | batticaloa | 80.69\n",
      "Processing record 58 out of 646 | lidzbark warminski | 47.59\n",
      "Processing record 59 out of 646 | aldan | 83.14\n",
      "Processing record 60 out of 646 | puerto ayora | 68\n",
      "Processing record 61 out of 646 | limon | 82.4\n",
      "Processing record 62 out of 646 | quatre cocos | 70.95\n",
      "Processing record 63 out of 646 | clovis | 106.45\n",
      "Processing record 64 out of 646 | upernavik | 41.79\n",
      "Processing record 65 out of 646 | lata | 71.01\n",
      "Processing record 66 out of 646 | ponta do sol | 67.48\n",
      "Processing record 67 out of 646 | kodiak | 57.2\n",
      "Processing record 68 out of 646 | tasiilaq | 37.4\n",
      "Processing record 69 out of 646 | victoria | 86.67\n",
      "Processing record 70 out of 646 | saskylakh | 63\n",
      "Processing record 71 out of 646 | general pico | 46.63\n",
      "Processing record 72 out of 646 | dikson | 41.49\n",
      "Processing record 73 out of 646 | shubarshi | 83.5\n",
      "Processing record 74 out of 646 | ribeira grande | 68.7\n",
      "City not found.\n",
      "Processing record 75 out of 646 | provideniya | 50\n",
      "Processing record 76 out of 646 | airai | 63.61\n",
      "Processing record 77 out of 646 | kloulklubed | 77\n",
      "Processing record 78 out of 646 | saldanha | 57.2\n",
      "Processing record 79 out of 646 | hobart | 43.21\n",
      "Processing record 80 out of 646 | fairbanks | 70.11\n",
      "Processing record 81 out of 646 | tiksi | 64.15\n",
      "Processing record 82 out of 646 | qandala | 91.18\n",
      "Processing record 83 out of 646 | xai-xai | 58.03\n",
      "Processing record 84 out of 646 | rezina | 54.57\n",
      "City not found.\n",
      "Processing record 85 out of 646 | vila do maio | 78.8\n",
      "City not found.\n",
      "Processing record 86 out of 646 | esna | 83.25\n",
      "Processing record 87 out of 646 | thompson | 71.6\n",
      "Processing record 88 out of 646 | sherghati | 84.2\n",
      "Processing record 89 out of 646 | praia | 78.8\n",
      "Processing record 90 out of 646 | carnarvon | 59\n",
      "Processing record 91 out of 646 | abu dhabi | 93.25\n",
      "Processing record 92 out of 646 | cayenne | 77\n",
      "Processing record 93 out of 646 | lukulu | 53.78\n",
      "Processing record 94 out of 646 | vaini | 73.4\n",
      "Processing record 95 out of 646 | codrington | 51.28\n",
      "Processing record 96 out of 646 | cidreira | 56.17\n",
      "Processing record 97 out of 646 | tura | 74.39\n",
      "City not found.\n",
      "Processing record 98 out of 646 | hasaki | 68.43\n",
      "Processing record 99 out of 646 | cherskiy | 54.52\n",
      "Processing record 100 out of 646 | barranco de loba | 79.21\n",
      "Processing record 101 out of 646 | wiesmoor | 52.25\n",
      "Processing record 102 out of 646 | klaksvik | 51.8\n",
      "Processing record 103 out of 646 | bilibino | 62.47\n",
      "Processing record 104 out of 646 | saint george | 107.31\n",
      "Processing record 105 out of 646 | mar del plata | 42.24\n",
      "Processing record 106 out of 646 | hasan abdal | 91.89\n",
      "Processing record 107 out of 646 | kapaa | 80.46\n",
      "Processing record 108 out of 646 | aqtobe | 71.6\n",
      "Processing record 109 out of 646 | bay-khaak | 62.64\n",
      "Processing record 110 out of 646 | bitam | 67.01\n",
      "Processing record 111 out of 646 | green river | 87.8\n",
      "Processing record 112 out of 646 | cabo san lucas | 94.28\n",
      "Processing record 113 out of 646 | atambua | 76.32\n",
      "Processing record 114 out of 646 | dale city | 78.78\n",
      "Processing record 115 out of 646 | atar | 92.52\n",
      "Processing record 116 out of 646 | luhyny | 51.89\n",
      "City not found.\n",
      "Processing record 117 out of 646 | batagay | 79.27\n",
      "Processing record 118 out of 646 | katsuura | 70.18\n",
      "Processing record 119 out of 646 | bredasdorp | 62.6\n",
      "City not found.\n",
      "Processing record 120 out of 646 | butaritari | 83.71\n",
      "Processing record 121 out of 646 | vila franca do campo | 68\n",
      "Processing record 122 out of 646 | jiangkou | 84.2\n",
      "Processing record 123 out of 646 | praia da vitoria | 68\n",
      "Processing record 124 out of 646 | narsaq | 51.8\n",
      "Processing record 125 out of 646 | port elizabeth | 62.6\n",
      "Processing record 126 out of 646 | tortoli | 73.4\n",
      "Processing record 127 out of 646 | avarua | 68\n",
      "Processing record 128 out of 646 | ust-koksa | 55.33\n",
      "City not found.\n",
      "Processing record 129 out of 646 | faya | 72.5\n",
      "Processing record 130 out of 646 | talnakh | 55.4\n",
      "Processing record 131 out of 646 | caboolture | 59.34\n",
      "Processing record 132 out of 646 | inhambane | 59.72\n",
      "Processing record 133 out of 646 | alta floresta | 76.05\n",
      "Processing record 134 out of 646 | willmar | 78.93\n",
      "Processing record 135 out of 646 | ancud | 35.67\n",
      "Processing record 136 out of 646 | salalah | 80.6\n",
      "Processing record 137 out of 646 | kavaratti | 82.45\n",
      "Processing record 138 out of 646 | mercedes | 44.28\n",
      "Processing record 139 out of 646 | la ronge | 66.2\n",
      "City not found.\n",
      "Processing record 140 out of 646 | uinskoye | 59.16\n",
      "Processing record 141 out of 646 | pulandian | 73.58\n",
      "Processing record 142 out of 646 | chuy | 44.87\n",
      "Processing record 143 out of 646 | damphu | 69.94\n",
      "Processing record 144 out of 646 | dunedin | 46.99\n",
      "Processing record 145 out of 646 | fairlie | 57.76\n",
      "Processing record 146 out of 646 | chokurdakh | 70.3\n",
      "Processing record 147 out of 646 | yellowknife | 70.54\n",
      "Processing record 148 out of 646 | ola | 60.69\n",
      "Processing record 149 out of 646 | sur | 84.96\n",
      "Processing record 150 out of 646 | louga | 49.44\n",
      "City not found.\n",
      "Processing record 151 out of 646 | tabou | 75.02\n",
      "Processing record 152 out of 646 | butajira | 57.27\n",
      "Processing record 153 out of 646 | arraial do cabo | 72.99\n",
      "Processing record 154 out of 646 | bakel | 84.07\n"
     ]
    },
    {
     "name": "stdout",
     "output_type": "stream",
     "text": [
      "Processing record 155 out of 646 | krusevac | 57.87\n",
      "Processing record 156 out of 646 | mount gambier | 48.2\n",
      "City not found.\n",
      "Processing record 157 out of 646 | mahebourg | 69.8\n",
      "Processing record 158 out of 646 | pringsewu | 74.59\n",
      "Processing record 159 out of 646 | east london | 58.8\n",
      "Processing record 160 out of 646 | sakakah | 87.8\n",
      "Processing record 161 out of 646 | chioggia | 69.26\n",
      "Processing record 162 out of 646 | djambala | 69.22\n",
      "Processing record 163 out of 646 | cabra | 77\n",
      "Processing record 164 out of 646 | port hawkesbury | 68.7\n",
      "Processing record 165 out of 646 | opuwo | 50.61\n",
      "Processing record 166 out of 646 | aripuana | 78.04\n",
      "Processing record 167 out of 646 | san quintin | 79.32\n",
      "Processing record 168 out of 646 | ambulu | 74.8\n",
      "Processing record 169 out of 646 | coria | 80.01\n",
      "Processing record 170 out of 646 | puerto colombia | 80.6\n",
      "Processing record 171 out of 646 | agboville | 70.74\n",
      "Processing record 172 out of 646 | port macquarie | 57.99\n",
      "City not found.\n",
      "Processing record 173 out of 646 | coronado | 82.67\n",
      "Processing record 174 out of 646 | lagoa | 68.61\n",
      "City not found.\n",
      "Processing record 175 out of 646 | houma | 88.27\n",
      "Processing record 176 out of 646 | smithers | 64.4\n",
      "Processing record 177 out of 646 | mehamn | 47.48\n",
      "Processing record 178 out of 646 | iskateley | 43.23\n",
      "Processing record 179 out of 646 | longyearbyen | 46.4\n",
      "Processing record 180 out of 646 | tambacounda | 80.6\n",
      "Processing record 181 out of 646 | ilulissat | 48.2\n",
      "Processing record 182 out of 646 | vanimo | 81.99\n",
      "Processing record 183 out of 646 | ugento | 73.83\n",
      "Processing record 184 out of 646 | noumea | 75.07\n",
      "Processing record 185 out of 646 | bethel | 77.11\n",
      "Processing record 186 out of 646 | kargil | 51.67\n",
      "Processing record 187 out of 646 | abu samrah | 71.22\n",
      "Processing record 188 out of 646 | chapais | 60.8\n",
      "Processing record 189 out of 646 | trofors | 48.09\n",
      "Processing record 190 out of 646 | san cristobal | 78.8\n",
      "Processing record 191 out of 646 | kangaatsiaq | 41.92\n",
      "Processing record 192 out of 646 | kovur | 83.84\n",
      "City not found.\n",
      "Processing record 193 out of 646 | herrin | 83.26\n",
      "Processing record 194 out of 646 | sao miguel do araguaia | 75.31\n",
      "Processing record 195 out of 646 | dandong | 72.93\n",
      "Processing record 196 out of 646 | souillac | 69.8\n",
      "Processing record 197 out of 646 | vaitape | 79.84\n",
      "Processing record 198 out of 646 | pacific grove | 69.3\n",
      "City not found.\n",
      "Processing record 199 out of 646 | richards bay | 57.04\n",
      "Processing record 200 out of 646 | deputatskiy | 68.97\n",
      "Processing record 201 out of 646 | nybro | 55.31\n",
      "Processing record 202 out of 646 | leshukonskoye | 46.33\n",
      "Processing record 203 out of 646 | kidal | 87.98\n",
      "Processing record 204 out of 646 | esperance | 48.2\n",
      "City not found.\n",
      "Processing record 205 out of 646 | amravati | 81.36\n",
      "Processing record 206 out of 646 | banyo | 64.9\n",
      "Processing record 207 out of 646 | wanlaweyn | 75.2\n",
      "Processing record 208 out of 646 | morondava | 68.77\n",
      "Processing record 209 out of 646 | bousso | 77.22\n",
      "City not found.\n",
      "Processing record 210 out of 646 | svetlaya | 65.34\n",
      "Processing record 211 out of 646 | nikolskoye | 50.92\n",
      "Processing record 212 out of 646 | calama | 51.8\n",
      "Processing record 213 out of 646 | severo-kurilsk | 49.98\n",
      "Processing record 214 out of 646 | cavalcante | 67.23\n",
      "Processing record 215 out of 646 | kaitangata | 46.99\n",
      "Processing record 216 out of 646 | guider | 75.94\n",
      "Processing record 217 out of 646 | faanui | 79.02\n",
      "Processing record 218 out of 646 | touros | 71.6\n",
      "Processing record 219 out of 646 | mangrol | 83.07\n",
      "Processing record 220 out of 646 | norman wells | 66.2\n",
      "City not found.\n",
      "Processing record 221 out of 646 | lavrentiya | 46.35\n",
      "Processing record 222 out of 646 | gamboula | 67.48\n",
      "Processing record 223 out of 646 | warragul | 51.06\n",
      "Processing record 224 out of 646 | awbari | 84.24\n",
      "Processing record 225 out of 646 | adrar | 94.37\n",
      "Processing record 226 out of 646 | harrislee | 50.32\n",
      "Processing record 227 out of 646 | khatanga | 59.58\n",
      "Processing record 228 out of 646 | sao filipe | 74.28\n",
      "Processing record 229 out of 646 | surab | 68.22\n",
      "Processing record 230 out of 646 | ust-nera | 74.21\n",
      "Processing record 231 out of 646 | raga | 69.48\n",
      "Processing record 232 out of 646 | axim | 74.64\n",
      "Processing record 233 out of 646 | shwebo | 77.54\n",
      "Processing record 234 out of 646 | mogapi | 42.22\n",
      "Processing record 235 out of 646 | chara | 78.66\n",
      "Processing record 236 out of 646 | iranshahr | 91.4\n",
      "Processing record 237 out of 646 | obihiro | 62.6\n",
      "Processing record 238 out of 646 | bacolod | 82.29\n",
      "Processing record 239 out of 646 | winnemucca | 98.6\n",
      "Processing record 240 out of 646 | georgetown | 79.27\n",
      "Processing record 241 out of 646 | chernyshevskiy | 66.97\n",
      "Processing record 242 out of 646 | reporoa | 55.2\n",
      "Processing record 243 out of 646 | honiara | 86\n",
      "Processing record 244 out of 646 | horana | 78.8\n",
      "Processing record 245 out of 646 | guerrero negro | 81.34\n",
      "City not found.\n",
      "Processing record 246 out of 646 | merrill | 74.19\n",
      "City not found.\n",
      "Processing record 247 out of 646 | san patricio | 84.2\n",
      "Processing record 248 out of 646 | bay roberts | 57.58\n",
      "Processing record 249 out of 646 | ornskoldsvik | 48.2\n",
      "City not found.\n",
      "Processing record 250 out of 646 | mitu | 73.89\n",
      "Processing record 251 out of 646 | thinadhoo | 84.96\n",
      "City not found.\n",
      "City not found.\n",
      "Processing record 252 out of 646 | noshiro | 66.2\n",
      "Processing record 253 out of 646 | ahipara | 60.35\n",
      "Processing record 254 out of 646 | mecca | 78.89\n",
      "Processing record 255 out of 646 | onguday | 56.46\n",
      "Processing record 256 out of 646 | rairangpur | 78.71\n",
      "Processing record 257 out of 646 | havoysund | 48.2\n",
      "Processing record 258 out of 646 | nome | 65.98\n",
      "Processing record 259 out of 646 | vestmannaeyjar | 50.58\n",
      "Processing record 260 out of 646 | lorengau | 85.19\n",
      "Processing record 261 out of 646 | matagami | 53.6\n",
      "Processing record 262 out of 646 | vannes | 57.6\n",
      "Processing record 263 out of 646 | russell | 72.81\n",
      "Processing record 264 out of 646 | ca mau | 79.21\n",
      "Processing record 265 out of 646 | adjumani | 64.38\n",
      "Processing record 266 out of 646 | buraydah | 96.8\n",
      "City not found.\n",
      "City not found.\n",
      "Processing record 267 out of 646 | uvat | 62.73\n",
      "Processing record 268 out of 646 | necochea | 37\n",
      "Processing record 269 out of 646 | nelson bay | 53.28\n",
      "Processing record 270 out of 646 | colquiri | 34.36\n",
      "Processing record 271 out of 646 | austin | 98.91\n",
      "Processing record 272 out of 646 | witbank | 38.41\n",
      "Processing record 273 out of 646 | merauke | 79.09\n",
      "Processing record 274 out of 646 | bengkulu | 74.55\n",
      "Processing record 275 out of 646 | geilo | 39.99\n",
      "Processing record 276 out of 646 | dwarka | 83.48\n",
      "Processing record 277 out of 646 | bossangoa | 70.54\n",
      "Processing record 278 out of 646 | madang | 84.63\n",
      "Processing record 279 out of 646 | bundaberg | 62.6\n",
      "Processing record 280 out of 646 | aquiraz | 78.8\n",
      "Processing record 281 out of 646 | college | 70.34\n",
      "Processing record 282 out of 646 | kungurtug | 62.02\n",
      "Processing record 283 out of 646 | krumbach | 51.98\n",
      "Processing record 284 out of 646 | vigrestad | 51.01\n",
      "Processing record 285 out of 646 | pahrump | 110.93\n",
      "Processing record 286 out of 646 | coswig | 52.48\n",
      "Processing record 287 out of 646 | coro | 79.3\n",
      "Processing record 288 out of 646 | mwinilunga | 57.38\n",
      "Processing record 289 out of 646 | leninskiy | 62.1\n",
      "Processing record 290 out of 646 | alice springs | 51.91\n",
      "City not found.\n",
      "Processing record 291 out of 646 | saint anthony | 81.32\n",
      "Processing record 292 out of 646 | okha | 57.58\n",
      "Processing record 293 out of 646 | high level | 68\n",
      "Processing record 294 out of 646 | dharchula | 69.17\n",
      "Processing record 295 out of 646 | hami | 76.91\n",
      "Processing record 296 out of 646 | la libertad | 69.24\n",
      "Processing record 297 out of 646 | batemans bay | 50\n",
      "Processing record 298 out of 646 | loyga | 58.19\n",
      "Processing record 299 out of 646 | snezhnogorsk | 46.4\n",
      "Processing record 300 out of 646 | kholodnyy | 75.45\n",
      "Processing record 301 out of 646 | road town | 82.58\n",
      "Processing record 302 out of 646 | svetlogorsk | 52.23\n",
      "Processing record 303 out of 646 | tabas | 86\n",
      "Processing record 304 out of 646 | xiamen | 89.6\n",
      "Processing record 305 out of 646 | noyabrsk | 56.28\n"
     ]
    }
   ],
   "source": [
    "# use the following site to pull the calls https://openweathermap.org/current\n",
    "# api call url - api.openweathermap.org/data/2.5/weather?q={city name}&appid={your api key}\n",
    "# create a shell df with columns for City Lat Lng Max Temp Humidity Cloudiness Wind Speed Country Date\n",
    "# option1 - create shell lists for each of the columns then combine then below into a df\n",
    "# option2 - figure out how to populate dataframe with the for loop method using .iterrows() \n",
    "city_num = 1\n",
    "\n",
    "print('''\n",
    "-----------------------------\n",
    "Beginning Data Retrieval\n",
    "-----------------------------''')\n",
    "\n",
    "for index, row in df.iterrows():\n",
    "    base_url = f\"https://api.openweathermap.org/data/2.5/weather?q={row['City']}&appid={weather_api_key}&units=imperial\"\n",
    "    query_data = requests.get(base_url).json()\n",
    "    \n",
    "    try:\n",
    "        print(f\"Processing record {city_num} out of {len(cities)} | {row['City']} | {query_data['main']['temp']}\")\n",
    "        \n",
    "        df.loc[index, 'Latitude'] = query_data['coord']['lat']\n",
    "        df.loc[index, 'Longitude'] = query_data['coord']['lon']\n",
    "        df.loc[index, 'Max Temp (F)'] = query_data['main']['temp_max']\n",
    "        df.loc[index, 'Humidity'] = query_data['main']['humidity']\n",
    "        df.loc[index, 'Cloud Coverage'] = query_data['clouds']['all']\n",
    "        df.loc[index, 'Wind Speed'] = query_data['wind']['speed']\n",
    "        df.loc[index, 'Country'] = query_data['sys']['country']\n",
    "        df.loc[index, 'Datetime'] = query_data['dt']\n",
    "        \n",
    "        city_num += 1     \n",
    "    except:\n",
    "        print(\"City not found.\")\n",
    "        \n",
    "print('''\n",
    "-----------------------------\n",
    "Data Retrival Complete\n",
    "-----------------------------''')\n",
    "# for city in cities:\n",
    "# # this step requires you to figure out how to do the datafram for loop method\n",
    "# # for index, row in df.iterrows():\n",
    "#     base_url = f\"https://api.openweathermap.org/data/2.5/weather?q={city}&appid={weather_api_key}&units=imperial\"\n",
    "    \n",
    "#     query_data = requests.get(base_url).json()\n",
    "    \n",
    "#     try:\n",
    "# #         print(f\"the weather in {city} is {query_data['main']['temp']}\")\n",
    "#         print(f\"Processing Record {city_num} out of {len(cities)} | {city} | {query_data['main']['temp']}\")\n",
    "#         df.loc[        \n",
    "#         df[\"Temp\"] = query_data['main']['temp']\n",
    "#         temp.append(query_data['main']['temp'])\n",
    "# #         df['Temp'].append(query_data['main']['temp'])\n",
    "#         city_num += 1\n",
    "#     except:\n",
    "#         print(\"not found\")\n",
    "   "
   ]
  },
  {
   "cell_type": "code",
   "execution_count": null,
   "metadata": {},
   "outputs": [],
   "source": [
    "df"
   ]
  },
  {
   "cell_type": "markdown",
   "metadata": {},
   "source": [
    "### Convert Raw Data to DataFrame\n",
    "* Export the city data into a .csv.\n",
    "* Display the DataFrame"
   ]
  },
  {
   "cell_type": "code",
   "execution_count": 13,
   "metadata": {},
   "outputs": [
    {
     "data": {
      "text/plain": [
       "[79.3, 77, 83.03, 39, 68.86, 76.14, 79.38, 67.59]"
      ]
     },
     "execution_count": 13,
     "metadata": {},
     "output_type": "execute_result"
    }
   ],
   "source": [
    "temp"
   ]
  },
  {
   "cell_type": "code",
   "execution_count": null,
   "metadata": {},
   "outputs": [],
   "source": []
  },
  {
   "cell_type": "markdown",
   "metadata": {},
   "source": [
    "## Inspect the data and remove the cities where the humidity > 100%.\n",
    "----\n",
    "Skip this step if there are no cities that have humidity > 100%. "
   ]
  },
  {
   "cell_type": "code",
   "execution_count": null,
   "metadata": {},
   "outputs": [],
   "source": []
  },
  {
   "cell_type": "code",
   "execution_count": null,
   "metadata": {},
   "outputs": [],
   "source": [
    "#  Get the indices of cities that have humidity over 100%.\n"
   ]
  },
  {
   "cell_type": "code",
   "execution_count": null,
   "metadata": {},
   "outputs": [],
   "source": [
    "# Make a new DataFrame equal to the city data to drop all humidity outliers by index.\n",
    "# Passing \"inplace=False\" will make a copy of the city_data DataFrame, which we call \"clean_city_data\".\n"
   ]
  },
  {
   "cell_type": "code",
   "execution_count": null,
   "metadata": {},
   "outputs": [],
   "source": [
    "# Extract relevant fields from the data frame\n",
    "\n",
    "\n",
    "# Export the City_Data into a csv\n"
   ]
  },
  {
   "cell_type": "markdown",
   "metadata": {},
   "source": [
    "## Plotting the Data\n",
    "* Use proper labeling of the plots using plot titles (including date of analysis) and axes labels.\n",
    "* Save the plotted figures as .pngs."
   ]
  },
  {
   "cell_type": "markdown",
   "metadata": {},
   "source": [
    "## Latitude vs. Temperature Plot"
   ]
  },
  {
   "cell_type": "code",
   "execution_count": null,
   "metadata": {
    "scrolled": true
   },
   "outputs": [],
   "source": []
  },
  {
   "cell_type": "markdown",
   "metadata": {},
   "source": [
    "## Latitude vs. Humidity Plot"
   ]
  },
  {
   "cell_type": "code",
   "execution_count": null,
   "metadata": {},
   "outputs": [],
   "source": []
  },
  {
   "cell_type": "markdown",
   "metadata": {},
   "source": [
    "## Latitude vs. Cloudiness Plot"
   ]
  },
  {
   "cell_type": "code",
   "execution_count": null,
   "metadata": {},
   "outputs": [],
   "source": []
  },
  {
   "cell_type": "markdown",
   "metadata": {},
   "source": [
    "## Latitude vs. Wind Speed Plot"
   ]
  },
  {
   "cell_type": "code",
   "execution_count": null,
   "metadata": {},
   "outputs": [],
   "source": []
  },
  {
   "cell_type": "markdown",
   "metadata": {},
   "source": [
    "## Linear Regression"
   ]
  },
  {
   "cell_type": "code",
   "execution_count": null,
   "metadata": {},
   "outputs": [],
   "source": [
    "# OPTIONAL: Create a function to create Linear Regression plots"
   ]
  },
  {
   "cell_type": "code",
   "execution_count": null,
   "metadata": {},
   "outputs": [],
   "source": [
    "# Create Northern and Southern Hemisphere DataFrames"
   ]
  },
  {
   "cell_type": "markdown",
   "metadata": {},
   "source": [
    "####  Northern Hemisphere - Max Temp vs. Latitude Linear Regression"
   ]
  },
  {
   "cell_type": "code",
   "execution_count": null,
   "metadata": {},
   "outputs": [],
   "source": []
  },
  {
   "cell_type": "markdown",
   "metadata": {},
   "source": [
    "####  Southern Hemisphere - Max Temp vs. Latitude Linear Regression"
   ]
  },
  {
   "cell_type": "code",
   "execution_count": null,
   "metadata": {},
   "outputs": [],
   "source": []
  },
  {
   "cell_type": "markdown",
   "metadata": {},
   "source": [
    "####  Northern Hemisphere - Humidity (%) vs. Latitude Linear Regression"
   ]
  },
  {
   "cell_type": "code",
   "execution_count": null,
   "metadata": {},
   "outputs": [],
   "source": []
  },
  {
   "cell_type": "markdown",
   "metadata": {},
   "source": [
    "####  Southern Hemisphere - Humidity (%) vs. Latitude Linear Regression"
   ]
  },
  {
   "cell_type": "code",
   "execution_count": null,
   "metadata": {},
   "outputs": [],
   "source": []
  },
  {
   "cell_type": "markdown",
   "metadata": {},
   "source": [
    "####  Northern Hemisphere - Cloudiness (%) vs. Latitude Linear Regression"
   ]
  },
  {
   "cell_type": "code",
   "execution_count": null,
   "metadata": {},
   "outputs": [],
   "source": []
  },
  {
   "cell_type": "markdown",
   "metadata": {},
   "source": [
    "####  Southern Hemisphere - Cloudiness (%) vs. Latitude Linear Regression"
   ]
  },
  {
   "cell_type": "code",
   "execution_count": null,
   "metadata": {},
   "outputs": [],
   "source": []
  },
  {
   "cell_type": "markdown",
   "metadata": {},
   "source": [
    "####  Northern Hemisphere - Wind Speed (mph) vs. Latitude Linear Regression"
   ]
  },
  {
   "cell_type": "code",
   "execution_count": null,
   "metadata": {},
   "outputs": [],
   "source": []
  },
  {
   "cell_type": "markdown",
   "metadata": {},
   "source": [
    "####  Southern Hemisphere - Wind Speed (mph) vs. Latitude Linear Regression"
   ]
  },
  {
   "cell_type": "code",
   "execution_count": null,
   "metadata": {},
   "outputs": [],
   "source": []
  },
  {
   "cell_type": "code",
   "execution_count": null,
   "metadata": {},
   "outputs": [],
   "source": []
  }
 ],
 "metadata": {
  "anaconda-cloud": {},
  "kernel_info": {
   "name": "python3"
  },
  "kernelspec": {
   "display_name": "Python 3",
   "language": "python",
   "name": "python3"
  },
  "language_info": {
   "codemirror_mode": {
    "name": "ipython",
    "version": 3
   },
   "file_extension": ".py",
   "mimetype": "text/x-python",
   "name": "python",
   "nbconvert_exporter": "python",
   "pygments_lexer": "ipython3",
   "version": "3.7.1"
  },
  "latex_envs": {
   "LaTeX_envs_menu_present": true,
   "autoclose": false,
   "autocomplete": true,
   "bibliofile": "biblio.bib",
   "cite_by": "apalike",
   "current_citInitial": 1,
   "eqLabelWithNumbers": true,
   "eqNumInitial": 1,
   "hotkeys": {
    "equation": "Ctrl-E",
    "itemize": "Ctrl-I"
   },
   "labels_anchors": false,
   "latex_user_defs": false,
   "report_style_numbering": false,
   "user_envs_cfg": false
  },
  "nteract": {
   "version": "0.12.3"
  }
 },
 "nbformat": 4,
 "nbformat_minor": 2
}
